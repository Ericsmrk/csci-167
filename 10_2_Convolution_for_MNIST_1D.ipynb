{
  "nbformat": 4,
  "nbformat_minor": 0,
  "metadata": {
    "colab": {
      "provenance": [],
      "include_colab_link": true
    },
    "kernelspec": {
      "name": "python3",
      "display_name": "Python 3"
    },
    "language_info": {
      "name": "python"
    }
  },
  "cells": [
    {
      "cell_type": "markdown",
      "metadata": {
        "id": "view-in-github",
        "colab_type": "text"
      },
      "source": [
        "<a href=\"https://colab.research.google.com/github/Ericsmrk/csci-167/blob/main/10_2_Convolution_for_MNIST_1D.ipynb\" target=\"_parent\"><img src=\"https://colab.research.google.com/assets/colab-badge.svg\" alt=\"Open In Colab\"/></a>"
      ]
    },
    {
      "cell_type": "markdown",
      "source": [
        "# **Notebook 10.2: Convolution for MNIST-1D**\n",
        "\n",
        "This notebook investigates a 1D convolutional network for MNIST-1D as in figure 10.7 and 10.8a.\n",
        "\n",
        "Work through the cells below, running each cell in turn. In various places you will see the words \"TO DO\". Follow the instructions at these places and make predictions about what is going to happen or write code to complete the functions.\n",
        "\n",
        "Contact me at udlbookmail@gmail.com if you find any mistakes or have any suggestions.\n",
        "\n"
      ],
      "metadata": {
        "id": "t9vk9Elugvmi"
      }
    },
    {
      "cell_type": "code",
      "source": [
        "# Run this if you're in a Colab to install MNIST 1D repository\n",
        "!pip install git+https://github.com/greydanus/mnist1d"
      ],
      "metadata": {
        "id": "D5yLObtZCi9J",
        "colab": {
          "base_uri": "https://localhost:8080/"
        },
        "outputId": "ec55ab1d-a142-4f7a-92ca-64aeefe12afe"
      },
      "execution_count": 1,
      "outputs": [
        {
          "output_type": "stream",
          "name": "stdout",
          "text": [
            "Collecting git+https://github.com/greydanus/mnist1d\n",
            "  Cloning https://github.com/greydanus/mnist1d to /tmp/pip-req-build-rby0cnxo\n",
            "  Running command git clone --filter=blob:none --quiet https://github.com/greydanus/mnist1d /tmp/pip-req-build-rby0cnxo\n",
            "  Resolved https://github.com/greydanus/mnist1d to commit 7878d96082abd200c546a07a4101fa90b30fdf7e\n",
            "  Installing build dependencies ... \u001b[?25l\u001b[?25hdone\n",
            "  Getting requirements to build wheel ... \u001b[?25l\u001b[?25hdone\n",
            "  Preparing metadata (pyproject.toml) ... \u001b[?25l\u001b[?25hdone\n",
            "Requirement already satisfied: requests in /usr/local/lib/python3.10/dist-packages (from mnist1d==0.0.2.post16) (2.32.3)\n",
            "Requirement already satisfied: numpy in /usr/local/lib/python3.10/dist-packages (from mnist1d==0.0.2.post16) (1.26.4)\n",
            "Requirement already satisfied: matplotlib in /usr/local/lib/python3.10/dist-packages (from mnist1d==0.0.2.post16) (3.8.0)\n",
            "Requirement already satisfied: scipy in /usr/local/lib/python3.10/dist-packages (from mnist1d==0.0.2.post16) (1.13.1)\n",
            "Requirement already satisfied: contourpy>=1.0.1 in /usr/local/lib/python3.10/dist-packages (from matplotlib->mnist1d==0.0.2.post16) (1.3.0)\n",
            "Requirement already satisfied: cycler>=0.10 in /usr/local/lib/python3.10/dist-packages (from matplotlib->mnist1d==0.0.2.post16) (0.12.1)\n",
            "Requirement already satisfied: fonttools>=4.22.0 in /usr/local/lib/python3.10/dist-packages (from matplotlib->mnist1d==0.0.2.post16) (4.54.1)\n",
            "Requirement already satisfied: kiwisolver>=1.0.1 in /usr/local/lib/python3.10/dist-packages (from matplotlib->mnist1d==0.0.2.post16) (1.4.7)\n",
            "Requirement already satisfied: packaging>=20.0 in /usr/local/lib/python3.10/dist-packages (from matplotlib->mnist1d==0.0.2.post16) (24.1)\n",
            "Requirement already satisfied: pillow>=6.2.0 in /usr/local/lib/python3.10/dist-packages (from matplotlib->mnist1d==0.0.2.post16) (10.4.0)\n",
            "Requirement already satisfied: pyparsing>=2.3.1 in /usr/local/lib/python3.10/dist-packages (from matplotlib->mnist1d==0.0.2.post16) (3.2.0)\n",
            "Requirement already satisfied: python-dateutil>=2.7 in /usr/local/lib/python3.10/dist-packages (from matplotlib->mnist1d==0.0.2.post16) (2.8.2)\n",
            "Requirement already satisfied: charset-normalizer<4,>=2 in /usr/local/lib/python3.10/dist-packages (from requests->mnist1d==0.0.2.post16) (3.4.0)\n",
            "Requirement already satisfied: idna<4,>=2.5 in /usr/local/lib/python3.10/dist-packages (from requests->mnist1d==0.0.2.post16) (3.10)\n",
            "Requirement already satisfied: urllib3<3,>=1.21.1 in /usr/local/lib/python3.10/dist-packages (from requests->mnist1d==0.0.2.post16) (2.2.3)\n",
            "Requirement already satisfied: certifi>=2017.4.17 in /usr/local/lib/python3.10/dist-packages (from requests->mnist1d==0.0.2.post16) (2024.8.30)\n",
            "Requirement already satisfied: six>=1.5 in /usr/local/lib/python3.10/dist-packages (from python-dateutil>=2.7->matplotlib->mnist1d==0.0.2.post16) (1.16.0)\n"
          ]
        }
      ]
    },
    {
      "cell_type": "code",
      "source": [
        "import numpy as np\n",
        "import os\n",
        "import torch, torch.nn as nn\n",
        "from torch.utils.data import TensorDataset, DataLoader\n",
        "from torch.optim.lr_scheduler import StepLR\n",
        "import matplotlib.pyplot as plt\n",
        "import mnist1d\n",
        "import random"
      ],
      "metadata": {
        "id": "YrXWAH7sUWvU"
      },
      "execution_count": 2,
      "outputs": []
    },
    {
      "cell_type": "code",
      "source": [
        "args = mnist1d.data.get_dataset_args()\n",
        "data = mnist1d.data.get_dataset(args, path='./mnist1d_data.pkl', download=False, regenerate=False)\n",
        "\n",
        "# The training and test input and outputs are in\n",
        "# data['x'], data['y'], data['x_test'], and data['y_test']\n",
        "print(\"Examples in training set: {}\".format(len(data['y'])))\n",
        "print(\"Examples in test set: {}\".format(len(data['y_test'])))\n",
        "print(\"Length of each example: {}\".format(data['x'].shape[-1]))"
      ],
      "metadata": {
        "id": "twI72ZCrCt5z",
        "colab": {
          "base_uri": "https://localhost:8080/"
        },
        "outputId": "58ffb2dd-3c56-433b-f67e-d6e95e17a117"
      },
      "execution_count": 3,
      "outputs": [
        {
          "output_type": "stream",
          "name": "stdout",
          "text": [
            "Successfully loaded data from ./mnist1d_data.pkl\n",
            "Examples in training set: 4000\n",
            "Examples in test set: 1000\n",
            "Length of each example: 40\n"
          ]
        }
      ]
    },
    {
      "cell_type": "code",
      "source": [
        "# Load in the data\n",
        "train_data_x = data['x'].transpose()\n",
        "train_data_y = data['y']\n",
        "val_data_x = data['x_test'].transpose()\n",
        "val_data_y = data['y_test']\n",
        "# Print out sizes\n",
        "print(\"Train data: %d examples (columns), each of which has %d dimensions (rows)\"%((train_data_x.shape[1],train_data_x.shape[0])))\n",
        "print(\"Validation data: %d examples (columns), each of which has %d dimensions (rows)\"%((val_data_x.shape[1],val_data_x.shape[0])))"
      ],
      "metadata": {
        "id": "8bKADvLHbiV5",
        "colab": {
          "base_uri": "https://localhost:8080/"
        },
        "outputId": "8dc2e307-6a1b-4987-ddfc-a54d9e7f1137"
      },
      "execution_count": 4,
      "outputs": [
        {
          "output_type": "stream",
          "name": "stdout",
          "text": [
            "Train data: 4000 examples (columns), each of which has 40 dimensions (rows)\n",
            "Validation data: 1000 examples (columns), each of which has 40 dimensions (rows)\n"
          ]
        }
      ]
    },
    {
      "cell_type": "markdown",
      "source": [
        "Define the network"
      ],
      "metadata": {
        "id": "_sFvRDGrl4qe"
      }
    },
    {
      "cell_type": "code",
      "source": [
        "# There are 40 input dimensions and 10 output dimensions for this data\n",
        "# The inputs correspond to the 40 offsets in the MNIST1D template.\n",
        "D_i = 40\n",
        "# The outputs correspond to the 10 digits\n",
        "D_o = 10\n",
        "\n",
        "\n",
        "# TODO Create a model with the following layers\n",
        "# 1. Convolutional layer, (input=length 40 and 1 channel, kernel size 3, stride 2, padding=\"valid\", 15 output channels )\n",
        "# 2. ReLU\n",
        "# 3. Convolutional layer, (input=length 19 and 15 channels, kernel size 3, stride 2, padding=\"valid\", 15 output channels )\n",
        "# 4. ReLU\n",
        "# 5. Convolutional layer, (input=length 9 and 15 channels, kernel size 3, stride 2, padding=\"valid\", 15 output channels)\n",
        "# 6. ReLU\n",
        "# 7. Flatten (converts 4x15) to length 60\n",
        "# 8. Linear layer (input size = 60, output size = 10)\n",
        "# References:\n",
        "# https://pytorch.org/docs/1.13/generated/torch.nn.Conv1d.html?highlight=conv1d#torch.nn.Conv1d\n",
        "# https://pytorch.org/docs/stable/generated/torch.nn.Flatten.html\n",
        "# https://pytorch.org/docs/1.13/generated/torch.nn.Linear.html?highlight=linear#torch.nn.Linear\n",
        "\n",
        "# NOTE THAT THE CONVOLUTIONAL LAYERS NEED TO TAKE THE NUMBER OF INPUT CHANNELS AS A PARAMETER\n",
        "# AND NOT THE INPUT SIZE.\n",
        "\n",
        "# Replace the following function:\n",
        "model = nn.Sequential(\n",
        "    nn.Conv1d(in_channels=1, out_channels=15, kernel_size=3, stride=2, padding=\"valid\"),\n",
        "    #nn.Conv1d(in_channels=D_i, out_channels=15, kernel_size=3, stride=2, padding=\"valid\"), #from brfore\n",
        "    nn.ReLU(),\n",
        "    nn.Conv1d(in_channels=15, out_channels=15, kernel_size=3, stride=2, padding=\"valid\"),\n",
        "    nn.ReLU(),\n",
        "    nn.Conv1d(in_channels=15, out_channels=15, kernel_size=3, stride=2, padding=\"valid\"),\n",
        "    nn.ReLU(),\n",
        "nn.Flatten(),\n",
        "    nn.Linear(60,10)\n",
        "\n",
        "\n",
        "    )\n",
        "\n",
        "\n",
        "\n"
      ],
      "metadata": {
        "id": "FslroPJJffrh"
      },
      "execution_count": 5,
      "outputs": []
    },
    {
      "cell_type": "code",
      "source": [
        "# He initialization of weights\n",
        "def weights_init(layer_in):\n",
        "  if isinstance(layer_in, nn.Linear):\n",
        "    nn.init.kaiming_uniform_(layer_in.weight)\n",
        "    layer_in.bias.data.fill_(0.0)"
      ],
      "metadata": {
        "id": "YgLaex1pfhqz"
      },
      "execution_count": 6,
      "outputs": []
    },
    {
      "cell_type": "code",
      "source": [
        "# choose cross entropy loss function (equation 5.24 in the loss notes)\n",
        "loss_function = nn.CrossEntropyLoss()\n",
        "# construct SGD optimizer and initialize learning rate and momentum\n",
        "optimizer = torch.optim.SGD(model.parameters(), lr = 0.05, momentum=0.9)\n",
        "# object that decreases learning rate by half every 20 epochs\n",
        "scheduler = StepLR(optimizer, step_size=20, gamma=0.5)\n",
        "# create 100 dummy data points and store in data loader class\n",
        "x_train = torch.tensor(train_data_x.transpose().astype('float32'))\n",
        "y_train = torch.tensor(train_data_y.astype('long')).long()\n",
        "x_val= torch.tensor(val_data_x.transpose().astype('float32'))\n",
        "y_val = torch.tensor(val_data_y.astype('long')).long()\n",
        "\n",
        "# load the data into a class that creates the batches\n",
        "data_loader = DataLoader(TensorDataset(x_train,y_train), batch_size=100, shuffle=True, worker_init_fn=np.random.seed(1))\n",
        "\n",
        "# Initialize model weights\n",
        "model.apply(weights_init)\n",
        "\n",
        "# loop over the dataset n_epoch times\n",
        "n_epoch = 100\n",
        "# store the loss and the % correct at each epoch\n",
        "losses_train = np.zeros((n_epoch))\n",
        "errors_train = np.zeros((n_epoch))\n",
        "losses_val = np.zeros((n_epoch))\n",
        "errors_val = np.zeros((n_epoch))\n",
        "\n",
        "for epoch in range(n_epoch):\n",
        "  # loop over batches\n",
        "  for i, data in enumerate(data_loader):\n",
        "    # retrieve inputs and labels for this batch\n",
        "    x_batch, y_batch = data\n",
        "    # zero the parameter gradients\n",
        "    optimizer.zero_grad()\n",
        "    # forward pass -- calculate model output\n",
        "    pred = model(x_batch[:,None,:])\n",
        "    # compute the loss\n",
        "    loss = loss_function(pred, y_batch)\n",
        "    # backward pass\n",
        "    loss.backward()\n",
        "    # SGD update\n",
        "    optimizer.step()\n",
        "\n",
        "  # Run whole dataset to get statistics -- normally wouldn't do this\n",
        "  pred_train = model(x_train[:,None,:])\n",
        "  pred_val = model(x_val[:,None,:])\n",
        "  _, predicted_train_class = torch.max(pred_train.data, 1)\n",
        "  _, predicted_val_class = torch.max(pred_val.data, 1)\n",
        "  errors_train[epoch] = 100 - 100 * (predicted_train_class == y_train).float().sum() / len(y_train)\n",
        "  errors_val[epoch]= 100 - 100 * (predicted_val_class == y_val).float().sum() / len(y_val)\n",
        "  losses_train[epoch] = loss_function(pred_train, y_train).item()\n",
        "  losses_val[epoch]= loss_function(pred_val, y_val).item()\n",
        "  print(f'Epoch {epoch:5d}, train loss {losses_train[epoch]:.6f}, train error {errors_train[epoch]:3.2f},  val loss {losses_val[epoch]:.6f}, percent error {errors_val[epoch]:3.2f}')\n",
        "\n",
        "  # tell scheduler to consider updating learning rate\n",
        "  scheduler.step()\n",
        "\n",
        "# Plot the results\n",
        "fig, ax = plt.subplots()\n",
        "ax.plot(errors_train,'r-',label='train')\n",
        "ax.plot(errors_val,'b-',label='validation')\n",
        "ax.set_ylim(0,100); ax.set_xlim(0,n_epoch)\n",
        "ax.set_xlabel('Epoch'); ax.set_ylabel('Error')\n",
        "ax.set_title('Part I: Validation Result %3.2f'%(errors_val[-1]))\n",
        "ax.legend()\n",
        "plt.show()"
      ],
      "metadata": {
        "id": "NYw8I_3mmX5c",
        "outputId": "8e25f01c-7d14-4c19-c7fd-df7f2a1d3da9",
        "colab": {
          "base_uri": "https://localhost:8080/",
          "height": 1000
        }
      },
      "execution_count": 7,
      "outputs": [
        {
          "output_type": "stream",
          "name": "stdout",
          "text": [
            "Epoch     0, train loss 2.122862, train error 80.82,  val loss 2.150592, percent error 81.20\n",
            "Epoch     1, train loss 1.506840, train error 60.00,  val loss 1.530566, percent error 64.70\n",
            "Epoch     2, train loss 1.357417, train error 53.85,  val loss 1.393095, percent error 57.40\n",
            "Epoch     3, train loss 1.343246, train error 54.78,  val loss 1.391116, percent error 57.90\n",
            "Epoch     4, train loss 1.201312, train error 48.92,  val loss 1.234507, percent error 50.90\n",
            "Epoch     5, train loss 1.145660, train error 46.12,  val loss 1.203794, percent error 51.50\n",
            "Epoch     6, train loss 0.976008, train error 38.95,  val loss 1.031859, percent error 42.00\n",
            "Epoch     7, train loss 1.059870, train error 41.62,  val loss 1.113232, percent error 42.60\n",
            "Epoch     8, train loss 0.868685, train error 34.07,  val loss 0.969981, percent error 37.90\n",
            "Epoch     9, train loss 0.791925, train error 31.03,  val loss 0.879267, percent error 34.30\n",
            "Epoch    10, train loss 0.714596, train error 28.65,  val loss 0.811449, percent error 32.00\n",
            "Epoch    11, train loss 0.661831, train error 25.22,  val loss 0.760973, percent error 30.00\n",
            "Epoch    12, train loss 0.608136, train error 22.15,  val loss 0.691965, percent error 26.70\n",
            "Epoch    13, train loss 0.515974, train error 19.20,  val loss 0.644786, percent error 24.90\n",
            "Epoch    14, train loss 0.452330, train error 16.30,  val loss 0.555999, percent error 20.30\n",
            "Epoch    15, train loss 0.444490, train error 15.85,  val loss 0.587585, percent error 21.20\n",
            "Epoch    16, train loss 0.382346, train error 13.15,  val loss 0.522932, percent error 17.50\n",
            "Epoch    17, train loss 0.342218, train error 11.85,  val loss 0.475216, percent error 16.50\n",
            "Epoch    18, train loss 0.304551, train error 10.62,  val loss 0.476517, percent error 17.10\n",
            "Epoch    19, train loss 0.284000, train error 10.07,  val loss 0.458574, percent error 14.90\n",
            "Epoch    20, train loss 0.212927, train error 6.82,  val loss 0.361263, percent error 13.30\n",
            "Epoch    21, train loss 0.181872, train error 5.62,  val loss 0.360931, percent error 11.70\n",
            "Epoch    22, train loss 0.192342, train error 6.28,  val loss 0.365035, percent error 12.50\n",
            "Epoch    23, train loss 0.153620, train error 4.62,  val loss 0.343508, percent error 11.30\n",
            "Epoch    24, train loss 0.165417, train error 5.65,  val loss 0.362475, percent error 12.40\n",
            "Epoch    25, train loss 0.172628, train error 5.40,  val loss 0.388793, percent error 12.10\n",
            "Epoch    26, train loss 0.171652, train error 5.60,  val loss 0.384258, percent error 12.20\n",
            "Epoch    27, train loss 0.141528, train error 4.57,  val loss 0.354582, percent error 11.20\n",
            "Epoch    28, train loss 0.127695, train error 4.45,  val loss 0.364664, percent error 11.60\n",
            "Epoch    29, train loss 0.122663, train error 4.20,  val loss 0.358090, percent error 10.90\n",
            "Epoch    30, train loss 0.114915, train error 3.70,  val loss 0.367517, percent error 10.60\n",
            "Epoch    31, train loss 0.119062, train error 3.80,  val loss 0.368212, percent error 11.20\n",
            "Epoch    32, train loss 0.105078, train error 3.32,  val loss 0.348829, percent error 10.80\n",
            "Epoch    33, train loss 0.102166, train error 3.45,  val loss 0.362576, percent error 11.30\n",
            "Epoch    34, train loss 0.108720, train error 3.72,  val loss 0.382314, percent error 11.70\n",
            "Epoch    35, train loss 0.113029, train error 3.93,  val loss 0.361490, percent error 12.00\n",
            "Epoch    36, train loss 0.096051, train error 3.15,  val loss 0.356331, percent error 9.80\n",
            "Epoch    37, train loss 0.100765, train error 3.75,  val loss 0.382096, percent error 11.20\n",
            "Epoch    38, train loss 0.077394, train error 2.25,  val loss 0.342432, percent error 10.60\n",
            "Epoch    39, train loss 0.089502, train error 3.15,  val loss 0.392644, percent error 11.40\n",
            "Epoch    40, train loss 0.064998, train error 1.82,  val loss 0.352847, percent error 10.20\n",
            "Epoch    41, train loss 0.060760, train error 1.57,  val loss 0.351219, percent error 9.40\n",
            "Epoch    42, train loss 0.062538, train error 1.80,  val loss 0.356672, percent error 9.80\n",
            "Epoch    43, train loss 0.059507, train error 1.55,  val loss 0.373968, percent error 10.30\n",
            "Epoch    44, train loss 0.054256, train error 1.30,  val loss 0.359554, percent error 9.80\n",
            "Epoch    45, train loss 0.054093, train error 1.40,  val loss 0.366308, percent error 10.30\n",
            "Epoch    46, train loss 0.051770, train error 1.22,  val loss 0.372113, percent error 10.30\n",
            "Epoch    47, train loss 0.058759, train error 1.60,  val loss 0.381045, percent error 10.30\n",
            "Epoch    48, train loss 0.050121, train error 1.22,  val loss 0.374769, percent error 10.10\n",
            "Epoch    49, train loss 0.048552, train error 1.20,  val loss 0.382080, percent error 9.80\n",
            "Epoch    50, train loss 0.048920, train error 1.22,  val loss 0.376258, percent error 9.90\n",
            "Epoch    51, train loss 0.048582, train error 1.28,  val loss 0.388967, percent error 9.80\n",
            "Epoch    52, train loss 0.046703, train error 1.03,  val loss 0.389537, percent error 10.20\n",
            "Epoch    53, train loss 0.053091, train error 1.70,  val loss 0.393014, percent error 9.80\n",
            "Epoch    54, train loss 0.048821, train error 1.38,  val loss 0.389976, percent error 10.00\n",
            "Epoch    55, train loss 0.044952, train error 1.07,  val loss 0.393019, percent error 10.00\n",
            "Epoch    56, train loss 0.043563, train error 1.00,  val loss 0.391418, percent error 9.80\n",
            "Epoch    57, train loss 0.052045, train error 1.55,  val loss 0.401168, percent error 10.90\n",
            "Epoch    58, train loss 0.050262, train error 1.45,  val loss 0.405344, percent error 10.60\n",
            "Epoch    59, train loss 0.043272, train error 1.12,  val loss 0.394345, percent error 10.30\n",
            "Epoch    60, train loss 0.036734, train error 0.70,  val loss 0.397277, percent error 9.60\n",
            "Epoch    61, train loss 0.035098, train error 0.62,  val loss 0.398844, percent error 9.90\n",
            "Epoch    62, train loss 0.034734, train error 0.65,  val loss 0.398762, percent error 9.90\n",
            "Epoch    63, train loss 0.036687, train error 0.82,  val loss 0.403895, percent error 10.10\n",
            "Epoch    64, train loss 0.034888, train error 0.75,  val loss 0.404220, percent error 9.90\n",
            "Epoch    65, train loss 0.034754, train error 0.70,  val loss 0.406413, percent error 10.40\n",
            "Epoch    66, train loss 0.034461, train error 0.68,  val loss 0.405043, percent error 10.30\n",
            "Epoch    67, train loss 0.036450, train error 0.88,  val loss 0.412752, percent error 9.60\n",
            "Epoch    68, train loss 0.032724, train error 0.62,  val loss 0.409709, percent error 10.30\n",
            "Epoch    69, train loss 0.032328, train error 0.57,  val loss 0.409580, percent error 10.20\n",
            "Epoch    70, train loss 0.032103, train error 0.60,  val loss 0.413192, percent error 10.40\n",
            "Epoch    71, train loss 0.031570, train error 0.60,  val loss 0.412044, percent error 10.20\n",
            "Epoch    72, train loss 0.030977, train error 0.57,  val loss 0.412874, percent error 10.10\n",
            "Epoch    73, train loss 0.030824, train error 0.47,  val loss 0.416025, percent error 10.30\n",
            "Epoch    74, train loss 0.031992, train error 0.70,  val loss 0.422596, percent error 10.40\n",
            "Epoch    75, train loss 0.029995, train error 0.55,  val loss 0.417458, percent error 9.90\n",
            "Epoch    76, train loss 0.029479, train error 0.55,  val loss 0.418737, percent error 9.90\n",
            "Epoch    77, train loss 0.031250, train error 0.65,  val loss 0.426098, percent error 9.80\n",
            "Epoch    78, train loss 0.030113, train error 0.55,  val loss 0.425484, percent error 10.10\n",
            "Epoch    79, train loss 0.029216, train error 0.57,  val loss 0.423469, percent error 10.20\n",
            "Epoch    80, train loss 0.028570, train error 0.55,  val loss 0.426950, percent error 10.30\n",
            "Epoch    81, train loss 0.027881, train error 0.55,  val loss 0.426431, percent error 10.20\n",
            "Epoch    82, train loss 0.027931, train error 0.50,  val loss 0.427172, percent error 10.40\n",
            "Epoch    83, train loss 0.027587, train error 0.50,  val loss 0.429303, percent error 9.90\n",
            "Epoch    84, train loss 0.027495, train error 0.50,  val loss 0.428947, percent error 10.10\n",
            "Epoch    85, train loss 0.027329, train error 0.53,  val loss 0.428775, percent error 9.80\n",
            "Epoch    86, train loss 0.027521, train error 0.50,  val loss 0.430908, percent error 10.30\n",
            "Epoch    87, train loss 0.026978, train error 0.43,  val loss 0.431233, percent error 10.10\n",
            "Epoch    88, train loss 0.027792, train error 0.47,  val loss 0.433693, percent error 10.60\n",
            "Epoch    89, train loss 0.026782, train error 0.43,  val loss 0.432258, percent error 10.30\n",
            "Epoch    90, train loss 0.026672, train error 0.47,  val loss 0.432965, percent error 9.90\n",
            "Epoch    91, train loss 0.026355, train error 0.50,  val loss 0.432388, percent error 10.10\n",
            "Epoch    92, train loss 0.026232, train error 0.47,  val loss 0.433924, percent error 10.00\n",
            "Epoch    93, train loss 0.026035, train error 0.50,  val loss 0.434997, percent error 9.90\n",
            "Epoch    94, train loss 0.026047, train error 0.47,  val loss 0.433880, percent error 10.10\n",
            "Epoch    95, train loss 0.026283, train error 0.45,  val loss 0.436801, percent error 10.30\n",
            "Epoch    96, train loss 0.025960, train error 0.53,  val loss 0.435851, percent error 9.80\n",
            "Epoch    97, train loss 0.025541, train error 0.43,  val loss 0.436749, percent error 10.10\n",
            "Epoch    98, train loss 0.026190, train error 0.47,  val loss 0.439559, percent error 10.10\n",
            "Epoch    99, train loss 0.026029, train error 0.47,  val loss 0.438654, percent error 10.00\n"
          ]
        },
        {
          "output_type": "display_data",
          "data": {
            "text/plain": [
              "<Figure size 640x480 with 1 Axes>"
            ],
            "image/png": "[encoded data removed]"
          },
          "metadata": {}
        }
      ]
    }
  ]
}